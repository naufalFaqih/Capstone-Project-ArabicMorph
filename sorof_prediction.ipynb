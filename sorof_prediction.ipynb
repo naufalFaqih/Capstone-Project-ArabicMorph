{
 "cells": [
  {
   "cell_type": "markdown",
   "metadata": {
    "id": "-MjETkmSCZv-"
   },
   "source": [
    "**Data Preprocessing**"
   ]
  },
  {
   "cell_type": "code",
   "execution_count": null,
   "metadata": {
    "colab": {
     "base_uri": "https://localhost:8080/"
    },
    "id": "Ce3Zdsx40ZJ5",
    "outputId": "49bfff2b-86bd-44cd-e381-af40e9071d72"
   },
   "outputs": [
    {
     "name": "stdout",
     "output_type": "stream",
     "text": [
      "Mounted at /content/drive\n"
     ]
    }
   ],
   "source": [
    "from google.colab import drive\n",
    "drive.mount('/content/drive')"
   ]
  },
  {
   "cell_type": "code",
   "execution_count": 2,
   "metadata": {
    "colab": {
     "base_uri": "https://localhost:8080/"
    },
    "id": "gqIPNxJu3_1i",
    "outputId": "66d84e93-0bb1-41cc-842a-46de63791c13"
   },
   "outputs": [
    {
     "name": "stdout",
     "output_type": "stream",
     "text": [
      "   ID Unvocalized    Vocalized Root  Triliteral        Madhi      Mudhori  \\\n",
      "0   1        أمكن      أمْكَنَ  مكن           0     أَمْكَنَ     يُمْكِنُ   \n",
      "1   2      استحال  اِسْتَحَالَ  حيل           0  اِسْتَحَالَ  يَسْتَحِيلُ   \n",
      "2   3         زها        زَهَا  زهو           1        زَهَا     يَزْهِوُ   \n",
      "3   4         بئس       بِئْسَ  بأس           1       بَئِسَ     يَبْئِسُ   \n",
      "4   5        أغمى      أَغْمَى  غمي           0      أَغْمَى      يُغْمِي   \n",
      "\n",
      "         Amar  \n",
      "0    أَمْكِنْ  \n",
      "1  اِسْتَحِلْ  \n",
      "2      اِزْهِ  \n",
      "3    اِبْئِسْ  \n",
      "4      أَغْمِ  \n"
     ]
    }
   ],
   "source": [
    "# Load the uploaded dataset to inspect its structure\n",
    "import pandas as pd\n",
    "\n",
    "# Path ke file dalam Google Drive\n",
    "file_path = 'arramooz-master/verbs_with_madhi_mudhori_amar.csv'\n",
    "\n",
    "# Baca file CSV\n",
    "data = pd.read_csv(file_path)\n",
    "print(data.head())"
   ]
  },
  {
   "cell_type": "code",
   "execution_count": 2,
   "metadata": {
    "colab": {
     "base_uri": "https://localhost:8080/"
    },
    "id": "yUU10HO7Hy2Y",
    "outputId": "9d35bc4a-0d4b-4db7-ce25-36a42480d5b5"
   },
   "outputs": [
    {
     "name": "stdout",
     "output_type": "stream",
     "text": [
      "Missing values in each column:\n",
      "ID             0\n",
      "Unvocalized    0\n",
      "Vocalized      0\n",
      "Root           0\n",
      "Triliteral     0\n",
      "Madhi          0\n",
      "Mudhori        0\n",
      "Amar           0\n",
      "dtype: int64\n",
      "\n",
      "Data types of each column:\n",
      "ID              int64\n",
      "Unvocalized    object\n",
      "Vocalized      object\n",
      "Root           object\n",
      "Triliteral      int64\n",
      "Madhi          object\n",
      "Mudhori        object\n",
      "Amar           object\n",
      "dtype: object\n",
      "\n",
      "First few rows of the DataFrame:\n",
      "   ID Unvocalized    Vocalized Root  Triliteral        Madhi      Mudhori  \\\n",
      "0   1        أمكن      أمْكَنَ  مكن           0     أَمْكَنَ     يُمْكِنُ   \n",
      "1   2      استحال  اِسْتَحَالَ  حيل           0  اِسْتَحَالَ  يَسْتَحِيلُ   \n",
      "2   3         زها        زَهَا  زهو           1        زَهَا     يَزْهِوُ   \n",
      "3   4         بئس       بِئْسَ  بأس           1       بَئِسَ     يَبْئِسُ   \n",
      "4   5        أغمى      أَغْمَى  غمي           0      أَغْمَى      يُغْمِي   \n",
      "\n",
      "         Amar  \n",
      "0    أَمْكِنْ  \n",
      "1  اِسْتَحِلْ  \n",
      "2      اِزْهِ  \n",
      "3    اِبْئِسْ  \n",
      "4      أَغْمِ  \n"
     ]
    }
   ],
   "source": [
    "# Display the first few rows of the dataset to understand its structure\n",
    "data.head()\n",
    "\n",
    "# Check for missing values\n",
    "print(\"Missing values in each column:\")\n",
    "print(data.isnull().sum())\n",
    "\n",
    "# Ensure the data is in the correct format\n",
    "print(\"\\nData types of each column:\")\n",
    "print(data.dtypes)\n",
    "\n",
    "# Display the first few rows of the updated DataFrame\n",
    "print(\"\\nFirst few rows of the DataFrame:\")\n",
    "print(data.head())"
   ]
  },
  {
   "cell_type": "markdown",
   "metadata": {
    "id": "B1nc-idJzrD-"
   },
   "source": [
    "**Model Architecture and Training**"
   ]
  },
  {
   "cell_type": "code",
   "execution_count": 5,
   "metadata": {
    "colab": {
     "base_uri": "https://localhost:8080/",
     "height": 1000
    },
    "id": "4A4wpxuvCjsK",
    "outputId": "4e59c90e-37b3-46ff-f75c-2418b25d13ee"
   },
   "outputs": [
    {
     "name": "stderr",
     "output_type": "stream",
     "text": [
      "c:\\Users\\dzak\\AppData\\Local\\Programs\\Python\\Python311\\Lib\\site-packages\\keras\\src\\layers\\core\\embedding.py:90: UserWarning: Argument `input_length` is deprecated. Just remove it.\n",
      "  warnings.warn(\n"
     ]
    },
    {
     "data": {
      "text/html": [
       "<pre style=\"white-space:pre;overflow-x:auto;line-height:normal;font-family:Menlo,'DejaVu Sans Mono',consolas,'Courier New',monospace\"><span style=\"font-weight: bold\">Model: \"functional_1\"</span>\n",
       "</pre>\n"
      ],
      "text/plain": [
       "\u001b[1mModel: \"functional_1\"\u001b[0m\n"
      ]
     },
     "metadata": {},
     "output_type": "display_data"
    },
    {
     "data": {
      "text/html": [
       "<pre style=\"white-space:pre;overflow-x:auto;line-height:normal;font-family:Menlo,'DejaVu Sans Mono',consolas,'Courier New',monospace\">┏━━━━━━━━━━━━━━━━━━━━━┳━━━━━━━━━━━━━━━━━━━┳━━━━━━━━━━━━┳━━━━━━━━━━━━━━━━━━━┓\n",
       "┃<span style=\"font-weight: bold\"> Layer (type)        </span>┃<span style=\"font-weight: bold\"> Output Shape      </span>┃<span style=\"font-weight: bold\">    Param # </span>┃<span style=\"font-weight: bold\"> Connected to      </span>┃\n",
       "┡━━━━━━━━━━━━━━━━━━━━━╇━━━━━━━━━━━━━━━━━━━╇━━━━━━━━━━━━╇━━━━━━━━━━━━━━━━━━━┩\n",
       "│ input_layer_1       │ (<span style=\"color: #00d7ff; text-decoration-color: #00d7ff\">None</span>, <span style=\"color: #00af00; text-decoration-color: #00af00\">6</span>)         │          <span style=\"color: #00af00; text-decoration-color: #00af00\">0</span> │ -                 │\n",
       "│ (<span style=\"color: #0087ff; text-decoration-color: #0087ff\">InputLayer</span>)        │                   │            │                   │\n",
       "├─────────────────────┼───────────────────┼────────────┼───────────────────┤\n",
       "│ embedding_1         │ (<span style=\"color: #00d7ff; text-decoration-color: #00d7ff\">None</span>, <span style=\"color: #00af00; text-decoration-color: #00af00\">6</span>, <span style=\"color: #00af00; text-decoration-color: #00af00\">64</span>)     │    <span style=\"color: #00af00; text-decoration-color: #00af00\">192,000</span> │ input_layer_1[<span style=\"color: #00af00; text-decoration-color: #00af00\">0</span>]… │\n",
       "│ (<span style=\"color: #0087ff; text-decoration-color: #0087ff\">Embedding</span>)         │                   │            │                   │\n",
       "├─────────────────────┼───────────────────┼────────────┼───────────────────┤\n",
       "│ batch_normalizatio… │ (<span style=\"color: #00d7ff; text-decoration-color: #00d7ff\">None</span>, <span style=\"color: #00af00; text-decoration-color: #00af00\">6</span>, <span style=\"color: #00af00; text-decoration-color: #00af00\">64</span>)     │        <span style=\"color: #00af00; text-decoration-color: #00af00\">256</span> │ embedding_1[<span style=\"color: #00af00; text-decoration-color: #00af00\">0</span>][<span style=\"color: #00af00; text-decoration-color: #00af00\">0</span>] │\n",
       "│ (<span style=\"color: #0087ff; text-decoration-color: #0087ff\">BatchNormalizatio…</span> │                   │            │                   │\n",
       "├─────────────────────┼───────────────────┼────────────┼───────────────────┤\n",
       "│ bidirectional_2     │ (<span style=\"color: #00d7ff; text-decoration-color: #00d7ff\">None</span>, <span style=\"color: #00af00; text-decoration-color: #00af00\">6</span>, <span style=\"color: #00af00; text-decoration-color: #00af00\">256</span>)    │    <span style=\"color: #00af00; text-decoration-color: #00af00\">197,632</span> │ batch_normalizat… │\n",
       "│ (<span style=\"color: #0087ff; text-decoration-color: #0087ff\">Bidirectional</span>)     │                   │            │                   │\n",
       "├─────────────────────┼───────────────────┼────────────┼───────────────────┤\n",
       "│ dropout_2 (<span style=\"color: #0087ff; text-decoration-color: #0087ff\">Dropout</span>) │ (<span style=\"color: #00d7ff; text-decoration-color: #00d7ff\">None</span>, <span style=\"color: #00af00; text-decoration-color: #00af00\">6</span>, <span style=\"color: #00af00; text-decoration-color: #00af00\">256</span>)    │          <span style=\"color: #00af00; text-decoration-color: #00af00\">0</span> │ bidirectional_2[<span style=\"color: #00af00; text-decoration-color: #00af00\">…</span> │\n",
       "├─────────────────────┼───────────────────┼────────────┼───────────────────┤\n",
       "│ batch_normalizatio… │ (<span style=\"color: #00d7ff; text-decoration-color: #00d7ff\">None</span>, <span style=\"color: #00af00; text-decoration-color: #00af00\">6</span>, <span style=\"color: #00af00; text-decoration-color: #00af00\">256</span>)    │      <span style=\"color: #00af00; text-decoration-color: #00af00\">1,024</span> │ dropout_2[<span style=\"color: #00af00; text-decoration-color: #00af00\">0</span>][<span style=\"color: #00af00; text-decoration-color: #00af00\">0</span>]   │\n",
       "│ (<span style=\"color: #0087ff; text-decoration-color: #0087ff\">BatchNormalizatio…</span> │                   │            │                   │\n",
       "├─────────────────────┼───────────────────┼────────────┼───────────────────┤\n",
       "│ bidirectional_3     │ (<span style=\"color: #00d7ff; text-decoration-color: #00d7ff\">None</span>, <span style=\"color: #00af00; text-decoration-color: #00af00\">256</span>)       │    <span style=\"color: #00af00; text-decoration-color: #00af00\">394,240</span> │ batch_normalizat… │\n",
       "│ (<span style=\"color: #0087ff; text-decoration-color: #0087ff\">Bidirectional</span>)     │                   │            │                   │\n",
       "├─────────────────────┼───────────────────┼────────────┼───────────────────┤\n",
       "│ dropout_3 (<span style=\"color: #0087ff; text-decoration-color: #0087ff\">Dropout</span>) │ (<span style=\"color: #00d7ff; text-decoration-color: #00d7ff\">None</span>, <span style=\"color: #00af00; text-decoration-color: #00af00\">256</span>)       │          <span style=\"color: #00af00; text-decoration-color: #00af00\">0</span> │ bidirectional_3[<span style=\"color: #00af00; text-decoration-color: #00af00\">…</span> │\n",
       "├─────────────────────┼───────────────────┼────────────┼───────────────────┤\n",
       "│ batch_normalizatio… │ (<span style=\"color: #00d7ff; text-decoration-color: #00d7ff\">None</span>, <span style=\"color: #00af00; text-decoration-color: #00af00\">256</span>)       │      <span style=\"color: #00af00; text-decoration-color: #00af00\">1,024</span> │ dropout_3[<span style=\"color: #00af00; text-decoration-color: #00af00\">0</span>][<span style=\"color: #00af00; text-decoration-color: #00af00\">0</span>]   │\n",
       "│ (<span style=\"color: #0087ff; text-decoration-color: #0087ff\">BatchNormalizatio…</span> │                   │            │                   │\n",
       "├─────────────────────┼───────────────────┼────────────┼───────────────────┤\n",
       "│ Madhi (<span style=\"color: #0087ff; text-decoration-color: #0087ff\">Dense</span>)       │ (<span style=\"color: #00d7ff; text-decoration-color: #00d7ff\">None</span>, <span style=\"color: #00af00; text-decoration-color: #00af00\">110</span>)       │     <span style=\"color: #00af00; text-decoration-color: #00af00\">28,270</span> │ batch_normalizat… │\n",
       "├─────────────────────┼───────────────────┼────────────┼───────────────────┤\n",
       "│ Mudhori (<span style=\"color: #0087ff; text-decoration-color: #0087ff\">Dense</span>)     │ (<span style=\"color: #00d7ff; text-decoration-color: #00d7ff\">None</span>, <span style=\"color: #00af00; text-decoration-color: #00af00\">321</span>)       │     <span style=\"color: #00af00; text-decoration-color: #00af00\">82,497</span> │ batch_normalizat… │\n",
       "├─────────────────────┼───────────────────┼────────────┼───────────────────┤\n",
       "│ Amar (<span style=\"color: #0087ff; text-decoration-color: #0087ff\">Dense</span>)        │ (<span style=\"color: #00d7ff; text-decoration-color: #00d7ff\">None</span>, <span style=\"color: #00af00; text-decoration-color: #00af00\">391</span>)       │    <span style=\"color: #00af00; text-decoration-color: #00af00\">100,487</span> │ batch_normalizat… │\n",
       "└─────────────────────┴───────────────────┴────────────┴───────────────────┘\n",
       "</pre>\n"
      ],
      "text/plain": [
       "┏━━━━━━━━━━━━━━━━━━━━━┳━━━━━━━━━━━━━━━━━━━┳━━━━━━━━━━━━┳━━━━━━━━━━━━━━━━━━━┓\n",
       "┃\u001b[1m \u001b[0m\u001b[1mLayer (type)       \u001b[0m\u001b[1m \u001b[0m┃\u001b[1m \u001b[0m\u001b[1mOutput Shape     \u001b[0m\u001b[1m \u001b[0m┃\u001b[1m \u001b[0m\u001b[1m   Param #\u001b[0m\u001b[1m \u001b[0m┃\u001b[1m \u001b[0m\u001b[1mConnected to     \u001b[0m\u001b[1m \u001b[0m┃\n",
       "┡━━━━━━━━━━━━━━━━━━━━━╇━━━━━━━━━━━━━━━━━━━╇━━━━━━━━━━━━╇━━━━━━━━━━━━━━━━━━━┩\n",
       "│ input_layer_1       │ (\u001b[38;5;45mNone\u001b[0m, \u001b[38;5;34m6\u001b[0m)         │          \u001b[38;5;34m0\u001b[0m │ -                 │\n",
       "│ (\u001b[38;5;33mInputLayer\u001b[0m)        │                   │            │                   │\n",
       "├─────────────────────┼───────────────────┼────────────┼───────────────────┤\n",
       "│ embedding_1         │ (\u001b[38;5;45mNone\u001b[0m, \u001b[38;5;34m6\u001b[0m, \u001b[38;5;34m64\u001b[0m)     │    \u001b[38;5;34m192,000\u001b[0m │ input_layer_1[\u001b[38;5;34m0\u001b[0m]… │\n",
       "│ (\u001b[38;5;33mEmbedding\u001b[0m)         │                   │            │                   │\n",
       "├─────────────────────┼───────────────────┼────────────┼───────────────────┤\n",
       "│ batch_normalizatio… │ (\u001b[38;5;45mNone\u001b[0m, \u001b[38;5;34m6\u001b[0m, \u001b[38;5;34m64\u001b[0m)     │        \u001b[38;5;34m256\u001b[0m │ embedding_1[\u001b[38;5;34m0\u001b[0m][\u001b[38;5;34m0\u001b[0m] │\n",
       "│ (\u001b[38;5;33mBatchNormalizatio…\u001b[0m │                   │            │                   │\n",
       "├─────────────────────┼───────────────────┼────────────┼───────────────────┤\n",
       "│ bidirectional_2     │ (\u001b[38;5;45mNone\u001b[0m, \u001b[38;5;34m6\u001b[0m, \u001b[38;5;34m256\u001b[0m)    │    \u001b[38;5;34m197,632\u001b[0m │ batch_normalizat… │\n",
       "│ (\u001b[38;5;33mBidirectional\u001b[0m)     │                   │            │                   │\n",
       "├─────────────────────┼───────────────────┼────────────┼───────────────────┤\n",
       "│ dropout_2 (\u001b[38;5;33mDropout\u001b[0m) │ (\u001b[38;5;45mNone\u001b[0m, \u001b[38;5;34m6\u001b[0m, \u001b[38;5;34m256\u001b[0m)    │          \u001b[38;5;34m0\u001b[0m │ bidirectional_2[\u001b[38;5;34m…\u001b[0m │\n",
       "├─────────────────────┼───────────────────┼────────────┼───────────────────┤\n",
       "│ batch_normalizatio… │ (\u001b[38;5;45mNone\u001b[0m, \u001b[38;5;34m6\u001b[0m, \u001b[38;5;34m256\u001b[0m)    │      \u001b[38;5;34m1,024\u001b[0m │ dropout_2[\u001b[38;5;34m0\u001b[0m][\u001b[38;5;34m0\u001b[0m]   │\n",
       "│ (\u001b[38;5;33mBatchNormalizatio…\u001b[0m │                   │            │                   │\n",
       "├─────────────────────┼───────────────────┼────────────┼───────────────────┤\n",
       "│ bidirectional_3     │ (\u001b[38;5;45mNone\u001b[0m, \u001b[38;5;34m256\u001b[0m)       │    \u001b[38;5;34m394,240\u001b[0m │ batch_normalizat… │\n",
       "│ (\u001b[38;5;33mBidirectional\u001b[0m)     │                   │            │                   │\n",
       "├─────────────────────┼───────────────────┼────────────┼───────────────────┤\n",
       "│ dropout_3 (\u001b[38;5;33mDropout\u001b[0m) │ (\u001b[38;5;45mNone\u001b[0m, \u001b[38;5;34m256\u001b[0m)       │          \u001b[38;5;34m0\u001b[0m │ bidirectional_3[\u001b[38;5;34m…\u001b[0m │\n",
       "├─────────────────────┼───────────────────┼────────────┼───────────────────┤\n",
       "│ batch_normalizatio… │ (\u001b[38;5;45mNone\u001b[0m, \u001b[38;5;34m256\u001b[0m)       │      \u001b[38;5;34m1,024\u001b[0m │ dropout_3[\u001b[38;5;34m0\u001b[0m][\u001b[38;5;34m0\u001b[0m]   │\n",
       "│ (\u001b[38;5;33mBatchNormalizatio…\u001b[0m │                   │            │                   │\n",
       "├─────────────────────┼───────────────────┼────────────┼───────────────────┤\n",
       "│ Madhi (\u001b[38;5;33mDense\u001b[0m)       │ (\u001b[38;5;45mNone\u001b[0m, \u001b[38;5;34m110\u001b[0m)       │     \u001b[38;5;34m28,270\u001b[0m │ batch_normalizat… │\n",
       "├─────────────────────┼───────────────────┼────────────┼───────────────────┤\n",
       "│ Mudhori (\u001b[38;5;33mDense\u001b[0m)     │ (\u001b[38;5;45mNone\u001b[0m, \u001b[38;5;34m321\u001b[0m)       │     \u001b[38;5;34m82,497\u001b[0m │ batch_normalizat… │\n",
       "├─────────────────────┼───────────────────┼────────────┼───────────────────┤\n",
       "│ Amar (\u001b[38;5;33mDense\u001b[0m)        │ (\u001b[38;5;45mNone\u001b[0m, \u001b[38;5;34m391\u001b[0m)       │    \u001b[38;5;34m100,487\u001b[0m │ batch_normalizat… │\n",
       "└─────────────────────┴───────────────────┴────────────┴───────────────────┘\n"
      ]
     },
     "metadata": {},
     "output_type": "display_data"
    },
    {
     "data": {
      "text/html": [
       "<pre style=\"white-space:pre;overflow-x:auto;line-height:normal;font-family:Menlo,'DejaVu Sans Mono',consolas,'Courier New',monospace\"><span style=\"font-weight: bold\"> Total params: </span><span style=\"color: #00af00; text-decoration-color: #00af00\">997,430</span> (3.80 MB)\n",
       "</pre>\n"
      ],
      "text/plain": [
       "\u001b[1m Total params: \u001b[0m\u001b[38;5;34m997,430\u001b[0m (3.80 MB)\n"
      ]
     },
     "metadata": {},
     "output_type": "display_data"
    },
    {
     "data": {
      "text/html": [
       "<pre style=\"white-space:pre;overflow-x:auto;line-height:normal;font-family:Menlo,'DejaVu Sans Mono',consolas,'Courier New',monospace\"><span style=\"font-weight: bold\"> Trainable params: </span><span style=\"color: #00af00; text-decoration-color: #00af00\">996,278</span> (3.80 MB)\n",
       "</pre>\n"
      ],
      "text/plain": [
       "\u001b[1m Trainable params: \u001b[0m\u001b[38;5;34m996,278\u001b[0m (3.80 MB)\n"
      ]
     },
     "metadata": {},
     "output_type": "display_data"
    },
    {
     "data": {
      "text/html": [
       "<pre style=\"white-space:pre;overflow-x:auto;line-height:normal;font-family:Menlo,'DejaVu Sans Mono',consolas,'Courier New',monospace\"><span style=\"font-weight: bold\"> Non-trainable params: </span><span style=\"color: #00af00; text-decoration-color: #00af00\">1,152</span> (4.50 KB)\n",
       "</pre>\n"
      ],
      "text/plain": [
       "\u001b[1m Non-trainable params: \u001b[0m\u001b[38;5;34m1,152\u001b[0m (4.50 KB)\n"
      ]
     },
     "metadata": {},
     "output_type": "display_data"
    },
    {
     "name": "stdout",
     "output_type": "stream",
     "text": [
      "Epoch 1/50\n",
      "\u001b[1m133/133\u001b[0m \u001b[32m━━━━━━━━━━━━━━━━━━━━\u001b[0m\u001b[37m\u001b[0m \u001b[1m23s\u001b[0m 77ms/step - Amar_accuracy: 0.2604 - Amar_loss: 5.8416 - Madhi_accuracy: 0.1861 - Madhi_loss: 4.8426 - Mudhori_accuracy: 0.2655 - Mudhori_loss: 5.7215 - loss: 16.6735 - val_Amar_accuracy: 0.8750 - val_Amar_loss: 3.1069 - val_Madhi_accuracy: 0.9685 - val_Madhi_loss: 2.1171 - val_Mudhori_accuracy: 0.8980 - val_Mudhori_loss: 3.1240 - val_loss: 8.5824 - learning_rate: 5.0000e-04\n",
      "Epoch 2/50\n",
      "\u001b[1m133/133\u001b[0m \u001b[32m━━━━━━━━━━━━━━━━━━━━\u001b[0m\u001b[37m\u001b[0m \u001b[1m9s\u001b[0m 68ms/step - Amar_accuracy: 0.7148 - Amar_loss: 3.6799 - Madhi_accuracy: 0.8315 - Madhi_loss: 2.1349 - Mudhori_accuracy: 0.7326 - Mudhori_loss: 3.6175 - loss: 9.6784 - val_Amar_accuracy: 0.8750 - val_Amar_loss: 1.1428 - val_Madhi_accuracy: 0.9685 - val_Madhi_loss: 0.3164 - val_Mudhori_accuracy: 0.8980 - val_Mudhori_loss: 0.9774 - val_loss: 2.6601 - learning_rate: 5.0000e-04\n",
      "Epoch 3/50\n",
      "\u001b[1m133/133\u001b[0m \u001b[32m━━━━━━━━━━━━━━━━━━━━\u001b[0m\u001b[37m\u001b[0m \u001b[1m10s\u001b[0m 75ms/step - Amar_accuracy: 0.8526 - Amar_loss: 1.3777 - Madhi_accuracy: 0.9600 - Madhi_loss: 0.4352 - Mudhori_accuracy: 0.8879 - Mudhori_loss: 1.1405 - loss: 3.2025 - val_Amar_accuracy: 0.8750 - val_Amar_loss: 1.1583 - val_Madhi_accuracy: 0.9685 - val_Madhi_loss: 0.3180 - val_Mudhori_accuracy: 0.8980 - val_Mudhori_loss: 0.9372 - val_loss: 2.6353 - learning_rate: 5.0000e-04\n",
      "Epoch 4/50\n",
      "\u001b[1m133/133\u001b[0m \u001b[32m━━━━━━━━━━━━━━━━━━━━\u001b[0m\u001b[37m\u001b[0m \u001b[1m12s\u001b[0m 88ms/step - Amar_accuracy: 0.8722 - Amar_loss: 1.0036 - Madhi_accuracy: 0.9588 - Madhi_loss: 0.3167 - Mudhori_accuracy: 0.8960 - Mudhori_loss: 0.8087 - loss: 2.3799 - val_Amar_accuracy: 0.8750 - val_Amar_loss: 1.1262 - val_Madhi_accuracy: 0.9685 - val_Madhi_loss: 0.3139 - val_Mudhori_accuracy: 0.8980 - val_Mudhori_loss: 0.9081 - val_loss: 2.5774 - learning_rate: 5.0000e-04\n",
      "Epoch 5/50\n",
      "\u001b[1m133/133\u001b[0m \u001b[32m━━━━━━━━━━━━━━━━━━━━\u001b[0m\u001b[37m\u001b[0m \u001b[1m11s\u001b[0m 83ms/step - Amar_accuracy: 0.8776 - Amar_loss: 0.8902 - Madhi_accuracy: 0.9684 - Madhi_loss: 0.2411 - Mudhori_accuracy: 0.8992 - Mudhori_loss: 0.7311 - loss: 2.1141 - val_Amar_accuracy: 0.8750 - val_Amar_loss: 0.9860 - val_Madhi_accuracy: 0.9685 - val_Madhi_loss: 0.2720 - val_Mudhori_accuracy: 0.8980 - val_Mudhori_loss: 0.8285 - val_loss: 2.3278 - learning_rate: 5.0000e-04\n",
      "Epoch 6/50\n",
      "\u001b[1m133/133\u001b[0m \u001b[32m━━━━━━━━━━━━━━━━━━━━\u001b[0m\u001b[37m\u001b[0m \u001b[1m19s\u001b[0m 72ms/step - Amar_accuracy: 0.8708 - Amar_loss: 0.8509 - Madhi_accuracy: 0.9643 - Madhi_loss: 0.2385 - Mudhori_accuracy: 0.8921 - Mudhori_loss: 0.7073 - loss: 2.0493 - val_Amar_accuracy: 0.8755 - val_Amar_loss: 0.8560 - val_Madhi_accuracy: 0.9685 - val_Madhi_loss: 0.2281 - val_Mudhori_accuracy: 0.8980 - val_Mudhori_loss: 0.7046 - val_loss: 2.0326 - learning_rate: 5.0000e-04\n",
      "Epoch 7/50\n",
      "\u001b[1m133/133\u001b[0m \u001b[32m━━━━━━━━━━━━━━━━━━━━\u001b[0m\u001b[37m\u001b[0m \u001b[1m11s\u001b[0m 80ms/step - Amar_accuracy: 0.8829 - Amar_loss: 0.7413 - Madhi_accuracy: 0.9707 - Madhi_loss: 0.1815 - Mudhori_accuracy: 0.9077 - Mudhori_loss: 0.5681 - loss: 1.7450 - val_Amar_accuracy: 0.8783 - val_Amar_loss: 0.7604 - val_Madhi_accuracy: 0.9685 - val_Madhi_loss: 0.1814 - val_Mudhori_accuracy: 0.8999 - val_Mudhori_loss: 0.6149 - val_loss: 1.8182 - learning_rate: 5.0000e-04\n",
      "Epoch 8/50\n",
      "\u001b[1m133/133\u001b[0m \u001b[32m━━━━━━━━━━━━━━━━━━━━\u001b[0m\u001b[37m\u001b[0m \u001b[1m20s\u001b[0m 74ms/step - Amar_accuracy: 0.8869 - Amar_loss: 0.6536 - Madhi_accuracy: 0.9699 - Madhi_loss: 0.1647 - Mudhori_accuracy: 0.9109 - Mudhori_loss: 0.4982 - loss: 1.5725 - val_Amar_accuracy: 0.8773 - val_Amar_loss: 0.7173 - val_Madhi_accuracy: 0.9699 - val_Madhi_loss: 0.1743 - val_Mudhori_accuracy: 0.8999 - val_Mudhori_loss: 0.5818 - val_loss: 1.7365 - learning_rate: 5.0000e-04\n",
      "Epoch 9/50\n",
      "\u001b[1m133/133\u001b[0m \u001b[32m━━━━━━━━━━━━━━━━━━━━\u001b[0m\u001b[37m\u001b[0m \u001b[1m11s\u001b[0m 83ms/step - Amar_accuracy: 0.8818 - Amar_loss: 0.6195 - Madhi_accuracy: 0.9695 - Madhi_loss: 0.1555 - Mudhori_accuracy: 0.9071 - Mudhori_loss: 0.4864 - loss: 1.5197 - val_Amar_accuracy: 0.8820 - val_Amar_loss: 0.6622 - val_Madhi_accuracy: 0.9709 - val_Madhi_loss: 0.1553 - val_Mudhori_accuracy: 0.9027 - val_Mudhori_loss: 0.5331 - val_loss: 1.6149 - learning_rate: 5.0000e-04\n",
      "Epoch 10/50\n",
      "\u001b[1m133/133\u001b[0m \u001b[32m━━━━━━━━━━━━━━━━━━━━\u001b[0m\u001b[37m\u001b[0m \u001b[1m12s\u001b[0m 88ms/step - Amar_accuracy: 0.8904 - Amar_loss: 0.5392 - Madhi_accuracy: 0.9687 - Madhi_loss: 0.1496 - Mudhori_accuracy: 0.9127 - Mudhori_loss: 0.4143 - loss: 1.3637 - val_Amar_accuracy: 0.8811 - val_Amar_loss: 0.6122 - val_Madhi_accuracy: 0.9742 - val_Madhi_loss: 0.1486 - val_Mudhori_accuracy: 0.9074 - val_Mudhori_loss: 0.4802 - val_loss: 1.5023 - learning_rate: 5.0000e-04\n",
      "Epoch 11/50\n",
      "\u001b[1m133/133\u001b[0m \u001b[32m━━━━━━━━━━━━━━━━━━━━\u001b[0m\u001b[37m\u001b[0m \u001b[1m12s\u001b[0m 87ms/step - Amar_accuracy: 0.8951 - Amar_loss: 0.4894 - Madhi_accuracy: 0.9710 - Madhi_loss: 0.1282 - Mudhori_accuracy: 0.9165 - Mudhori_loss: 0.3834 - loss: 1.2641 - val_Amar_accuracy: 0.8806 - val_Amar_loss: 0.5789 - val_Madhi_accuracy: 0.9742 - val_Madhi_loss: 0.1357 - val_Mudhori_accuracy: 0.9079 - val_Mudhori_loss: 0.4551 - val_loss: 1.4443 - learning_rate: 5.0000e-04\n",
      "Epoch 12/50\n",
      "\u001b[1m133/133\u001b[0m \u001b[32m━━━━━━━━━━━━━━━━━━━━\u001b[0m\u001b[37m\u001b[0m \u001b[1m12s\u001b[0m 87ms/step - Amar_accuracy: 0.8976 - Amar_loss: 0.4699 - Madhi_accuracy: 0.9753 - Madhi_loss: 0.1132 - Mudhori_accuracy: 0.9192 - Mudhori_loss: 0.3555 - loss: 1.2042 - val_Amar_accuracy: 0.8849 - val_Amar_loss: 0.5355 - val_Madhi_accuracy: 0.9746 - val_Madhi_loss: 0.1315 - val_Mudhori_accuracy: 0.9164 - val_Mudhori_loss: 0.4214 - val_loss: 1.3703 - learning_rate: 5.0000e-04\n",
      "Epoch 13/50\n",
      "\u001b[1m133/133\u001b[0m \u001b[32m━━━━━━━━━━━━━━━━━━━━\u001b[0m\u001b[37m\u001b[0m \u001b[1m12s\u001b[0m 88ms/step - Amar_accuracy: 0.9009 - Amar_loss: 0.4124 - Madhi_accuracy: 0.9724 - Madhi_loss: 0.1233 - Mudhori_accuracy: 0.9242 - Mudhori_loss: 0.3149 - loss: 1.1188 - val_Amar_accuracy: 0.8891 - val_Amar_loss: 0.4849 - val_Madhi_accuracy: 0.9746 - val_Madhi_loss: 0.1234 - val_Mudhori_accuracy: 0.9131 - val_Mudhori_loss: 0.3816 - val_loss: 1.2704 - learning_rate: 5.0000e-04\n",
      "Epoch 14/50\n",
      "\u001b[1m133/133\u001b[0m \u001b[32m━━━━━━━━━━━━━━━━━━━━\u001b[0m\u001b[37m\u001b[0m \u001b[1m12s\u001b[0m 90ms/step - Amar_accuracy: 0.9041 - Amar_loss: 0.3923 - Madhi_accuracy: 0.9804 - Madhi_loss: 0.0840 - Mudhori_accuracy: 0.9268 - Mudhori_loss: 0.2894 - loss: 1.0364 - val_Amar_accuracy: 0.8886 - val_Amar_loss: 0.4663 - val_Madhi_accuracy: 0.9718 - val_Madhi_loss: 0.1147 - val_Mudhori_accuracy: 0.9149 - val_Mudhori_loss: 0.3607 - val_loss: 1.2278 - learning_rate: 5.0000e-04\n",
      "Epoch 15/50\n",
      "\u001b[1m133/133\u001b[0m \u001b[32m━━━━━━━━━━━━━━━━━━━━\u001b[0m\u001b[37m\u001b[0m \u001b[1m13s\u001b[0m 96ms/step - Amar_accuracy: 0.9122 - Amar_loss: 0.3416 - Madhi_accuracy: 0.9782 - Madhi_loss: 0.0948 - Mudhori_accuracy: 0.9313 - Mudhori_loss: 0.2637 - loss: 0.9728 - val_Amar_accuracy: 0.9027 - val_Amar_loss: 0.4114 - val_Madhi_accuracy: 0.9774 - val_Madhi_loss: 0.1034 - val_Mudhori_accuracy: 0.9248 - val_Mudhori_loss: 0.3145 - val_loss: 1.1165 - learning_rate: 5.0000e-04\n",
      "Epoch 16/50\n",
      "\u001b[1m133/133\u001b[0m \u001b[32m━━━━━━━━━━━━━━━━━━━━\u001b[0m\u001b[37m\u001b[0m \u001b[1m12s\u001b[0m 92ms/step - Amar_accuracy: 0.9187 - Amar_loss: 0.3184 - Madhi_accuracy: 0.9822 - Madhi_loss: 0.0768 - Mudhori_accuracy: 0.9392 - Mudhori_loss: 0.2331 - loss: 0.9029 - val_Amar_accuracy: 0.8924 - val_Amar_loss: 0.4296 - val_Madhi_accuracy: 0.9784 - val_Madhi_loss: 0.0988 - val_Mudhori_accuracy: 0.9173 - val_Mudhori_loss: 0.3342 - val_loss: 1.1500 - learning_rate: 5.0000e-04\n",
      "Epoch 17/50\n",
      "\u001b[1m133/133\u001b[0m \u001b[32m━━━━━━━━━━━━━━━━━━━━\u001b[0m\u001b[37m\u001b[0m \u001b[1m12s\u001b[0m 91ms/step - Amar_accuracy: 0.9230 - Amar_loss: 0.2921 - Madhi_accuracy: 0.9802 - Madhi_loss: 0.0788 - Mudhori_accuracy: 0.9400 - Mudhori_loss: 0.2245 - loss: 0.8717 - val_Amar_accuracy: 0.9041 - val_Amar_loss: 0.3995 - val_Madhi_accuracy: 0.9789 - val_Madhi_loss: 0.1078 - val_Mudhori_accuracy: 0.9295 - val_Mudhori_loss: 0.3115 - val_loss: 1.1105 - learning_rate: 5.0000e-04\n",
      "Epoch 18/50\n",
      "\u001b[1m133/133\u001b[0m \u001b[32m━━━━━━━━━━━━━━━━━━━━\u001b[0m\u001b[37m\u001b[0m \u001b[1m12s\u001b[0m 92ms/step - Amar_accuracy: 0.9259 - Amar_loss: 0.2826 - Madhi_accuracy: 0.9771 - Madhi_loss: 0.0791 - Mudhori_accuracy: 0.9417 - Mudhori_loss: 0.2171 - loss: 0.8567 - val_Amar_accuracy: 0.9074 - val_Amar_loss: 0.3817 - val_Madhi_accuracy: 0.9770 - val_Madhi_loss: 0.1050 - val_Mudhori_accuracy: 0.9309 - val_Mudhori_loss: 0.3091 - val_loss: 1.0889 - learning_rate: 5.0000e-04\n",
      "Epoch 19/50\n",
      "\u001b[1m133/133\u001b[0m \u001b[32m━━━━━━━━━━━━━━━━━━━━\u001b[0m\u001b[37m\u001b[0m \u001b[1m12s\u001b[0m 91ms/step - Amar_accuracy: 0.9282 - Amar_loss: 0.2579 - Madhi_accuracy: 0.9836 - Madhi_loss: 0.0610 - Mudhori_accuracy: 0.9426 - Mudhori_loss: 0.1948 - loss: 0.7930 - val_Amar_accuracy: 0.9178 - val_Amar_loss: 0.3573 - val_Madhi_accuracy: 0.9831 - val_Madhi_loss: 0.0971 - val_Mudhori_accuracy: 0.9370 - val_Mudhori_loss: 0.2761 - val_loss: 1.0241 - learning_rate: 5.0000e-04\n",
      "Epoch 20/50\n",
      "\u001b[1m133/133\u001b[0m \u001b[32m━━━━━━━━━━━━━━━━━━━━\u001b[0m\u001b[37m\u001b[0m \u001b[1m12s\u001b[0m 90ms/step - Amar_accuracy: 0.9298 - Amar_loss: 0.2579 - Madhi_accuracy: 0.9827 - Madhi_loss: 0.0661 - Mudhori_accuracy: 0.9438 - Mudhori_loss: 0.1964 - loss: 0.8009 - val_Amar_accuracy: 0.9140 - val_Amar_loss: 0.3637 - val_Madhi_accuracy: 0.9821 - val_Madhi_loss: 0.1043 - val_Mudhori_accuracy: 0.9403 - val_Mudhori_loss: 0.2844 - val_loss: 1.0473 - learning_rate: 5.0000e-04\n",
      "Epoch 21/50\n",
      "\u001b[1m133/133\u001b[0m \u001b[32m━━━━━━━━━━━━━━━━━━━━\u001b[0m\u001b[37m\u001b[0m \u001b[1m19s\u001b[0m 79ms/step - Amar_accuracy: 0.9362 - Amar_loss: 0.2297 - Madhi_accuracy: 0.9814 - Madhi_loss: 0.0621 - Mudhori_accuracy: 0.9464 - Mudhori_loss: 0.1774 - loss: 0.7504 - val_Amar_accuracy: 0.9211 - val_Amar_loss: 0.3532 - val_Madhi_accuracy: 0.9793 - val_Madhi_loss: 0.1092 - val_Mudhori_accuracy: 0.9403 - val_Mudhori_loss: 0.2819 - val_loss: 1.0411 - learning_rate: 5.0000e-04\n",
      "Epoch 22/50\n",
      "\u001b[1m133/133\u001b[0m \u001b[32m━━━━━━━━━━━━━━━━━━━━\u001b[0m\u001b[37m\u001b[0m \u001b[1m12s\u001b[0m 89ms/step - Amar_accuracy: 0.9354 - Amar_loss: 0.2194 - Madhi_accuracy: 0.9812 - Madhi_loss: 0.0610 - Mudhori_accuracy: 0.9513 - Mudhori_loss: 0.1650 - loss: 0.7274 - val_Amar_accuracy: 0.9243 - val_Amar_loss: 0.3295 - val_Madhi_accuracy: 0.9798 - val_Madhi_loss: 0.1027 - val_Mudhori_accuracy: 0.9427 - val_Mudhori_loss: 0.2633 - val_loss: 0.9906 - learning_rate: 5.0000e-04\n",
      "Epoch 23/50\n",
      "\u001b[1m133/133\u001b[0m \u001b[32m━━━━━━━━━━━━━━━━━━━━\u001b[0m\u001b[37m\u001b[0m \u001b[1m12s\u001b[0m 90ms/step - Amar_accuracy: 0.9380 - Amar_loss: 0.2112 - Madhi_accuracy: 0.9823 - Madhi_loss: 0.0605 - Mudhori_accuracy: 0.9535 - Mudhori_loss: 0.1629 - loss: 0.7172 - val_Amar_accuracy: 0.9286 - val_Amar_loss: 0.3354 - val_Madhi_accuracy: 0.9817 - val_Madhi_loss: 0.1063 - val_Mudhori_accuracy: 0.9469 - val_Mudhori_loss: 0.2651 - val_loss: 1.0051 - learning_rate: 5.0000e-04\n",
      "Epoch 24/50\n",
      "\u001b[1m133/133\u001b[0m \u001b[32m━━━━━━━━━━━━━━━━━━━━\u001b[0m\u001b[37m\u001b[0m \u001b[1m19s\u001b[0m 80ms/step - Amar_accuracy: 0.9396 - Amar_loss: 0.2054 - Madhi_accuracy: 0.9857 - Madhi_loss: 0.0516 - Mudhori_accuracy: 0.9530 - Mudhori_loss: 0.1582 - loss: 0.6983 - val_Amar_accuracy: 0.9211 - val_Amar_loss: 0.3132 - val_Madhi_accuracy: 0.9807 - val_Madhi_loss: 0.0912 - val_Mudhori_accuracy: 0.9408 - val_Mudhori_loss: 0.2474 - val_loss: 0.9471 - learning_rate: 5.0000e-04\n",
      "Epoch 25/50\n",
      "\u001b[1m133/133\u001b[0m \u001b[32m━━━━━━━━━━━━━━━━━━━━\u001b[0m\u001b[37m\u001b[0m \u001b[1m21s\u001b[0m 81ms/step - Amar_accuracy: 0.9364 - Amar_loss: 0.2015 - Madhi_accuracy: 0.9841 - Madhi_loss: 0.0518 - Mudhori_accuracy: 0.9525 - Mudhori_loss: 0.1487 - loss: 0.6852 - val_Amar_accuracy: 0.9248 - val_Amar_loss: 0.3346 - val_Madhi_accuracy: 0.9746 - val_Madhi_loss: 0.1190 - val_Mudhori_accuracy: 0.9464 - val_Mudhori_loss: 0.2659 - val_loss: 1.0183 - learning_rate: 5.0000e-04\n",
      "Epoch 26/50\n",
      "\u001b[1m133/133\u001b[0m \u001b[32m━━━━━━━━━━━━━━━━━━━━\u001b[0m\u001b[37m\u001b[0m \u001b[1m21s\u001b[0m 81ms/step - Amar_accuracy: 0.9389 - Amar_loss: 0.2020 - Madhi_accuracy: 0.9865 - Madhi_loss: 0.0512 - Mudhori_accuracy: 0.9503 - Mudhori_loss: 0.1538 - loss: 0.6905 - val_Amar_accuracy: 0.9211 - val_Amar_loss: 0.3769 - val_Madhi_accuracy: 0.9817 - val_Madhi_loss: 0.1292 - val_Mudhori_accuracy: 0.9469 - val_Mudhori_loss: 0.2996 - val_loss: 1.1065 - learning_rate: 5.0000e-04\n",
      "Epoch 27/50\n",
      "\u001b[1m133/133\u001b[0m \u001b[32m━━━━━━━━━━━━━━━━━━━━\u001b[0m\u001b[37m\u001b[0m \u001b[1m20s\u001b[0m 78ms/step - Amar_accuracy: 0.9388 - Amar_loss: 0.1933 - Madhi_accuracy: 0.9861 - Madhi_loss: 0.0470 - Mudhori_accuracy: 0.9549 - Mudhori_loss: 0.1402 - loss: 0.6639 - val_Amar_accuracy: 0.9286 - val_Amar_loss: 0.3413 - val_Madhi_accuracy: 0.9803 - val_Madhi_loss: 0.1181 - val_Mudhori_accuracy: 0.9431 - val_Mudhori_loss: 0.2762 - val_loss: 1.0317 - learning_rate: 5.0000e-04\n",
      "Epoch 28/50\n",
      "\u001b[1m133/133\u001b[0m \u001b[32m━━━━━━━━━━━━━━━━━━━━\u001b[0m\u001b[37m\u001b[0m \u001b[1m11s\u001b[0m 85ms/step - Amar_accuracy: 0.9465 - Amar_loss: 0.1786 - Madhi_accuracy: 0.9834 - Madhi_loss: 0.0507 - Mudhori_accuracy: 0.9634 - Mudhori_loss: 0.1323 - loss: 0.6451 - val_Amar_accuracy: 0.9314 - val_Amar_loss: 0.3037 - val_Madhi_accuracy: 0.9831 - val_Madhi_loss: 0.0869 - val_Mudhori_accuracy: 0.9554 - val_Mudhori_loss: 0.2404 - val_loss: 0.9252 - learning_rate: 2.5000e-04\n",
      "Epoch 29/50\n",
      "\u001b[1m133/133\u001b[0m \u001b[32m━━━━━━━━━━━━━━━━━━━━\u001b[0m\u001b[37m\u001b[0m \u001b[1m12s\u001b[0m 89ms/step - Amar_accuracy: 0.9482 - Amar_loss: 0.1605 - Madhi_accuracy: 0.9873 - Madhi_loss: 0.0354 - Mudhori_accuracy: 0.9601 - Mudhori_loss: 0.1258 - loss: 0.6044 - val_Amar_accuracy: 0.9337 - val_Amar_loss: 0.3030 - val_Madhi_accuracy: 0.9850 - val_Madhi_loss: 0.0941 - val_Mudhori_accuracy: 0.9605 - val_Mudhori_loss: 0.2374 - val_loss: 0.9292 - learning_rate: 2.5000e-04\n",
      "Epoch 30/50\n",
      "\u001b[1m133/133\u001b[0m \u001b[32m━━━━━━━━━━━━━━━━━━━━\u001b[0m\u001b[37m\u001b[0m \u001b[1m20s\u001b[0m 81ms/step - Amar_accuracy: 0.9511 - Amar_loss: 0.1443 - Madhi_accuracy: 0.9890 - Madhi_loss: 0.0365 - Mudhori_accuracy: 0.9650 - Mudhori_loss: 0.1092 - loss: 0.5720 - val_Amar_accuracy: 0.9361 - val_Amar_loss: 0.3009 - val_Madhi_accuracy: 0.9831 - val_Madhi_loss: 0.0922 - val_Mudhori_accuracy: 0.9563 - val_Mudhori_loss: 0.2351 - val_loss: 0.9216 - learning_rate: 2.5000e-04\n",
      "Epoch 31/50\n",
      "\u001b[1m133/133\u001b[0m \u001b[32m━━━━━━━━━━━━━━━━━━━━\u001b[0m\u001b[37m\u001b[0m \u001b[1m11s\u001b[0m 86ms/step - Amar_accuracy: 0.9490 - Amar_loss: 0.1643 - Madhi_accuracy: 0.9879 - Madhi_loss: 0.0391 - Mudhori_accuracy: 0.9634 - Mudhori_loss: 0.1163 - loss: 0.6009 - val_Amar_accuracy: 0.9356 - val_Amar_loss: 0.2943 - val_Madhi_accuracy: 0.9840 - val_Madhi_loss: 0.0903 - val_Mudhori_accuracy: 0.9591 - val_Mudhori_loss: 0.2326 - val_loss: 0.9102 - learning_rate: 2.5000e-04\n",
      "Epoch 32/50\n",
      "\u001b[1m133/133\u001b[0m \u001b[32m━━━━━━━━━━━━━━━━━━━━\u001b[0m\u001b[37m\u001b[0m \u001b[1m12s\u001b[0m 91ms/step - Amar_accuracy: 0.9536 - Amar_loss: 0.1487 - Madhi_accuracy: 0.9873 - Madhi_loss: 0.0370 - Mudhori_accuracy: 0.9617 - Mudhori_loss: 0.1098 - loss: 0.5760 - val_Amar_accuracy: 0.9352 - val_Amar_loss: 0.2953 - val_Madhi_accuracy: 0.9831 - val_Madhi_loss: 0.0882 - val_Mudhori_accuracy: 0.9558 - val_Mudhori_loss: 0.2327 - val_loss: 0.9079 - learning_rate: 2.5000e-04\n",
      "Epoch 33/50\n",
      "\u001b[1m133/133\u001b[0m \u001b[32m━━━━━━━━━━━━━━━━━━━━\u001b[0m\u001b[37m\u001b[0m \u001b[1m12s\u001b[0m 91ms/step - Amar_accuracy: 0.9481 - Amar_loss: 0.1547 - Madhi_accuracy: 0.9880 - Madhi_loss: 0.0375 - Mudhori_accuracy: 0.9632 - Mudhori_loss: 0.1133 - loss: 0.5850 - val_Amar_accuracy: 0.9380 - val_Amar_loss: 0.3065 - val_Madhi_accuracy: 0.9812 - val_Madhi_loss: 0.1014 - val_Mudhori_accuracy: 0.9572 - val_Mudhori_loss: 0.2498 - val_loss: 0.9506 - learning_rate: 2.5000e-04\n",
      "Epoch 34/50\n",
      "\u001b[1m133/133\u001b[0m \u001b[32m━━━━━━━━━━━━━━━━━━━━\u001b[0m\u001b[37m\u001b[0m \u001b[1m12s\u001b[0m 91ms/step - Amar_accuracy: 0.9517 - Amar_loss: 0.1451 - Madhi_accuracy: 0.9891 - Madhi_loss: 0.0320 - Mudhori_accuracy: 0.9645 - Mudhori_loss: 0.1015 - loss: 0.5572 - val_Amar_accuracy: 0.9370 - val_Amar_loss: 0.3124 - val_Madhi_accuracy: 0.9826 - val_Madhi_loss: 0.1056 - val_Mudhori_accuracy: 0.9568 - val_Mudhori_loss: 0.2571 - val_loss: 0.9679 - learning_rate: 2.5000e-04\n",
      "Epoch 35/50\n",
      "\u001b[1m133/133\u001b[0m \u001b[32m━━━━━━━━━━━━━━━━━━━━\u001b[0m\u001b[37m\u001b[0m \u001b[1m12s\u001b[0m 92ms/step - Amar_accuracy: 0.9552 - Amar_loss: 0.1402 - Madhi_accuracy: 0.9890 - Madhi_loss: 0.0324 - Mudhori_accuracy: 0.9669 - Mudhori_loss: 0.1036 - loss: 0.5540 - val_Amar_accuracy: 0.9342 - val_Amar_loss: 0.2861 - val_Madhi_accuracy: 0.9840 - val_Madhi_loss: 0.0833 - val_Mudhori_accuracy: 0.9539 - val_Mudhori_loss: 0.2314 - val_loss: 0.8907 - learning_rate: 2.5000e-04\n",
      "Epoch 36/50\n",
      "\u001b[1m133/133\u001b[0m \u001b[32m━━━━━━━━━━━━━━━━━━━━\u001b[0m\u001b[37m\u001b[0m \u001b[1m12s\u001b[0m 89ms/step - Amar_accuracy: 0.9564 - Amar_loss: 0.1337 - Madhi_accuracy: 0.9892 - Madhi_loss: 0.0326 - Mudhori_accuracy: 0.9666 - Mudhori_loss: 0.0958 - loss: 0.5391 - val_Amar_accuracy: 0.9361 - val_Amar_loss: 0.2965 - val_Madhi_accuracy: 0.9854 - val_Madhi_loss: 0.0875 - val_Mudhori_accuracy: 0.9591 - val_Mudhori_loss: 0.2423 - val_loss: 0.9156 - learning_rate: 2.5000e-04\n",
      "Epoch 37/50\n",
      "\u001b[1m133/133\u001b[0m \u001b[32m━━━━━━━━━━━━━━━━━━━━\u001b[0m\u001b[37m\u001b[0m \u001b[1m12s\u001b[0m 91ms/step - Amar_accuracy: 0.9607 - Amar_loss: 0.1235 - Madhi_accuracy: 0.9886 - Madhi_loss: 0.0340 - Mudhori_accuracy: 0.9705 - Mudhori_loss: 0.0970 - loss: 0.5305 - val_Amar_accuracy: 0.9398 - val_Amar_loss: 0.2922 - val_Madhi_accuracy: 0.9854 - val_Madhi_loss: 0.0868 - val_Mudhori_accuracy: 0.9586 - val_Mudhori_loss: 0.2368 - val_loss: 0.9039 - learning_rate: 2.5000e-04\n",
      "Epoch 38/50\n",
      "\u001b[1m133/133\u001b[0m \u001b[32m━━━━━━━━━━━━━━━━━━━━\u001b[0m\u001b[37m\u001b[0m \u001b[1m20s\u001b[0m 83ms/step - Amar_accuracy: 0.9572 - Amar_loss: 0.1338 - Madhi_accuracy: 0.9867 - Madhi_loss: 0.0395 - Mudhori_accuracy: 0.9685 - Mudhori_loss: 0.0974 - loss: 0.5459 - val_Amar_accuracy: 0.9403 - val_Amar_loss: 0.2848 - val_Madhi_accuracy: 0.9859 - val_Madhi_loss: 0.0847 - val_Mudhori_accuracy: 0.9601 - val_Mudhori_loss: 0.2316 - val_loss: 0.8879 - learning_rate: 2.5000e-04\n",
      "Epoch 39/50\n",
      "\u001b[1m133/133\u001b[0m \u001b[32m━━━━━━━━━━━━━━━━━━━━\u001b[0m\u001b[37m\u001b[0m \u001b[1m12s\u001b[0m 90ms/step - Amar_accuracy: 0.9561 - Amar_loss: 0.1327 - Madhi_accuracy: 0.9881 - Madhi_loss: 0.0337 - Mudhori_accuracy: 0.9666 - Mudhori_loss: 0.1026 - loss: 0.5432 - val_Amar_accuracy: 0.9398 - val_Amar_loss: 0.2895 - val_Madhi_accuracy: 0.9850 - val_Madhi_loss: 0.0912 - val_Mudhori_accuracy: 0.9610 - val_Mudhori_loss: 0.2358 - val_loss: 0.9023 - learning_rate: 2.5000e-04\n",
      "Epoch 40/50\n",
      "\u001b[1m133/133\u001b[0m \u001b[32m━━━━━━━━━━━━━━━━━━━━\u001b[0m\u001b[37m\u001b[0m \u001b[1m20s\u001b[0m 83ms/step - Amar_accuracy: 0.9597 - Amar_loss: 0.1217 - Madhi_accuracy: 0.9896 - Madhi_loss: 0.0333 - Mudhori_accuracy: 0.9661 - Mudhori_loss: 0.0981 - loss: 0.5262 - val_Amar_accuracy: 0.9408 - val_Amar_loss: 0.2924 - val_Madhi_accuracy: 0.9840 - val_Madhi_loss: 0.0896 - val_Mudhori_accuracy: 0.9605 - val_Mudhori_loss: 0.2348 - val_loss: 0.9020 - learning_rate: 2.5000e-04\n",
      "Epoch 41/50\n",
      "\u001b[1m133/133\u001b[0m \u001b[32m━━━━━━━━━━━━━━━━━━━━\u001b[0m\u001b[37m\u001b[0m \u001b[1m20s\u001b[0m 80ms/step - Amar_accuracy: 0.9596 - Amar_loss: 0.1257 - Madhi_accuracy: 0.9861 - Madhi_loss: 0.0387 - Mudhori_accuracy: 0.9675 - Mudhori_loss: 0.0962 - loss: 0.5327 - val_Amar_accuracy: 0.9417 - val_Amar_loss: 0.3009 - val_Madhi_accuracy: 0.9831 - val_Madhi_loss: 0.0982 - val_Mudhori_accuracy: 0.9596 - val_Mudhori_loss: 0.2434 - val_loss: 0.9263 - learning_rate: 2.5000e-04\n",
      "Epoch 42/50\n",
      "\u001b[1m133/133\u001b[0m \u001b[32m━━━━━━━━━━━━━━━━━━━━\u001b[0m\u001b[37m\u001b[0m \u001b[1m12s\u001b[0m 87ms/step - Amar_accuracy: 0.9575 - Amar_loss: 0.1215 - Madhi_accuracy: 0.9911 - Madhi_loss: 0.0284 - Mudhori_accuracy: 0.9696 - Mudhori_loss: 0.0914 - loss: 0.5126 - val_Amar_accuracy: 0.9431 - val_Amar_loss: 0.2857 - val_Madhi_accuracy: 0.9845 - val_Madhi_loss: 0.0874 - val_Mudhori_accuracy: 0.9610 - val_Mudhori_loss: 0.2310 - val_loss: 0.8876 - learning_rate: 1.2500e-04\n",
      "Epoch 43/50\n",
      "\u001b[1m133/133\u001b[0m \u001b[32m━━━━━━━━━━━━━━━━━━━━\u001b[0m\u001b[37m\u001b[0m \u001b[1m21s\u001b[0m 86ms/step - Amar_accuracy: 0.9600 - Amar_loss: 0.1145 - Madhi_accuracy: 0.9905 - Madhi_loss: 0.0290 - Mudhori_accuracy: 0.9689 - Mudhori_loss: 0.0893 - loss: 0.5034 - val_Amar_accuracy: 0.9431 - val_Amar_loss: 0.2927 - val_Madhi_accuracy: 0.9821 - val_Madhi_loss: 0.0915 - val_Mudhori_accuracy: 0.9610 - val_Mudhori_loss: 0.2380 - val_loss: 0.9052 - learning_rate: 1.2500e-04\n",
      "Epoch 44/50\n",
      "\u001b[1m133/133\u001b[0m \u001b[32m━━━━━━━━━━━━━━━━━━━━\u001b[0m\u001b[37m\u001b[0m \u001b[1m12s\u001b[0m 88ms/step - Amar_accuracy: 0.9579 - Amar_loss: 0.1151 - Madhi_accuracy: 0.9890 - Madhi_loss: 0.0305 - Mudhori_accuracy: 0.9693 - Mudhori_loss: 0.0833 - loss: 0.4988 - val_Amar_accuracy: 0.9436 - val_Amar_loss: 0.2949 - val_Madhi_accuracy: 0.9840 - val_Madhi_loss: 0.0939 - val_Mudhori_accuracy: 0.9601 - val_Mudhori_loss: 0.2393 - val_loss: 0.9111 - learning_rate: 1.2500e-04\n",
      "Epoch 45/50\n",
      "\u001b[1m133/133\u001b[0m \u001b[32m━━━━━━━━━━━━━━━━━━━━\u001b[0m\u001b[37m\u001b[0m \u001b[1m12s\u001b[0m 93ms/step - Amar_accuracy: 0.9646 - Amar_loss: 0.1117 - Madhi_accuracy: 0.9903 - Madhi_loss: 0.0291 - Mudhori_accuracy: 0.9730 - Mudhori_loss: 0.0775 - loss: 0.4876 - val_Amar_accuracy: 0.9436 - val_Amar_loss: 0.2844 - val_Madhi_accuracy: 0.9845 - val_Madhi_loss: 0.0832 - val_Mudhori_accuracy: 0.9615 - val_Mudhori_loss: 0.2306 - val_loss: 0.8797 - learning_rate: 1.2500e-04\n",
      "Epoch 46/50\n",
      "\u001b[1m133/133\u001b[0m \u001b[32m━━━━━━━━━━━━━━━━━━━━\u001b[0m\u001b[37m\u001b[0m \u001b[1m12s\u001b[0m 92ms/step - Amar_accuracy: 0.9592 - Amar_loss: 0.1217 - Madhi_accuracy: 0.9899 - Madhi_loss: 0.0306 - Mudhori_accuracy: 0.9694 - Mudhori_loss: 0.0897 - loss: 0.5104 - val_Amar_accuracy: 0.9464 - val_Amar_loss: 0.2960 - val_Madhi_accuracy: 0.9859 - val_Madhi_loss: 0.0914 - val_Mudhori_accuracy: 0.9638 - val_Mudhori_loss: 0.2432 - val_loss: 0.9121 - learning_rate: 1.2500e-04\n",
      "Epoch 47/50\n",
      "\u001b[1m133/133\u001b[0m \u001b[32m━━━━━━━━━━━━━━━━━━━━\u001b[0m\u001b[37m\u001b[0m \u001b[1m20s\u001b[0m 87ms/step - Amar_accuracy: 0.9589 - Amar_loss: 0.1250 - Madhi_accuracy: 0.9903 - Madhi_loss: 0.0297 - Mudhori_accuracy: 0.9700 - Mudhori_loss: 0.0917 - loss: 0.5143 - val_Amar_accuracy: 0.9460 - val_Amar_loss: 0.3026 - val_Madhi_accuracy: 0.9850 - val_Madhi_loss: 0.0970 - val_Mudhori_accuracy: 0.9643 - val_Mudhori_loss: 0.2490 - val_loss: 0.9299 - learning_rate: 1.2500e-04\n",
      "Epoch 48/50\n",
      "\u001b[1m133/133\u001b[0m \u001b[32m━━━━━━━━━━━━━━━━━━━━\u001b[0m\u001b[37m\u001b[0m \u001b[1m13s\u001b[0m 94ms/step - Amar_accuracy: 0.9571 - Amar_loss: 0.1184 - Madhi_accuracy: 0.9899 - Madhi_loss: 0.0320 - Mudhori_accuracy: 0.9685 - Mudhori_loss: 0.0970 - loss: 0.5146 - val_Amar_accuracy: 0.9441 - val_Amar_loss: 0.2949 - val_Madhi_accuracy: 0.9845 - val_Madhi_loss: 0.0920 - val_Mudhori_accuracy: 0.9601 - val_Mudhori_loss: 0.2434 - val_loss: 0.9106 - learning_rate: 1.2500e-04\n",
      "Epoch 49/50\n",
      "\u001b[1m133/133\u001b[0m \u001b[32m━━━━━━━━━━━━━━━━━━━━\u001b[0m\u001b[37m\u001b[0m \u001b[1m12s\u001b[0m 93ms/step - Amar_accuracy: 0.9624 - Amar_loss: 0.1070 - Madhi_accuracy: 0.9892 - Madhi_loss: 0.0304 - Mudhori_accuracy: 0.9710 - Mudhori_loss: 0.0836 - loss: 0.4873 - val_Amar_accuracy: 0.9474 - val_Amar_loss: 0.2920 - val_Madhi_accuracy: 0.9854 - val_Madhi_loss: 0.0893 - val_Mudhori_accuracy: 0.9643 - val_Mudhori_loss: 0.2389 - val_loss: 0.8999 - learning_rate: 6.2500e-05\n",
      "Epoch 50/50\n",
      "\u001b[1m133/133\u001b[0m \u001b[32m━━━━━━━━━━━━━━━━━━━━\u001b[0m\u001b[37m\u001b[0m \u001b[1m12s\u001b[0m 94ms/step - Amar_accuracy: 0.9638 - Amar_loss: 0.1042 - Madhi_accuracy: 0.9883 - Madhi_loss: 0.0333 - Mudhori_accuracy: 0.9705 - Mudhori_loss: 0.0820 - loss: 0.4855 - val_Amar_accuracy: 0.9478 - val_Amar_loss: 0.2899 - val_Madhi_accuracy: 0.9845 - val_Madhi_loss: 0.0891 - val_Mudhori_accuracy: 0.9643 - val_Mudhori_loss: 0.2372 - val_loss: 0.8950 - learning_rate: 6.2500e-05\n"
     ]
    }
   ],
   "source": [
    "import pandas as pd\n",
    "import numpy as np\n",
    "from tensorflow.keras.models import Model\n",
    "from tensorflow.keras.layers import Input, Embedding, LSTM, Dense, Dropout, BatchNormalization, Bidirectional\n",
    "from tensorflow.keras.preprocessing.text import Tokenizer\n",
    "from tensorflow.keras.preprocessing.sequence import pad_sequences\n",
    "from sklearn.model_selection import train_test_split\n",
    "from sklearn.preprocessing import LabelEncoder\n",
    "from tensorflow.keras.regularizers import l2\n",
    "from tensorflow.keras.optimizers import Adam\n",
    "from tensorflow.keras.callbacks import EarlyStopping, ReduceLROnPlateau\n",
    "\n",
    "# Load dataset\n",
    "data = pd.read_csv('arramooz-master/verbs_with_madhi_mudhori_amar.csv')\n",
    "\n",
    "# Select relevant columns\n",
    "input_column = 'Unvocalized'\n",
    "output_columns = ['Madhi', 'Mudhori', 'Amar']\n",
    "\n",
    "# Drop rows with missing values\n",
    "data = data.dropna(subset=[input_column] + output_columns)\n",
    "\n",
    "# Simplify rare classes by grouping them into 'Other'\n",
    "threshold = 3\n",
    "for col in output_columns:\n",
    "    value_counts = data[col].value_counts()\n",
    "    rare_classes = value_counts[value_counts < threshold].index\n",
    "    data[col] = data[col].apply(lambda x: 'Other' if x in rare_classes else x)\n",
    "\n",
    "# Tokenizer setup\n",
    "max_vocab_size = 3000\n",
    "max_sequence_length = 6\n",
    "tokenizer = Tokenizer(num_words=max_vocab_size, char_level=True, oov_token='<UNK>')\n",
    "tokenizer.fit_on_texts(data[input_column])\n",
    "\n",
    "# Convert text to sequences and pad them\n",
    "X = tokenizer.texts_to_sequences(data[input_column])\n",
    "X = pad_sequences(X, maxlen=max_sequence_length, padding='post')\n",
    "\n",
    "# Encode target columns\n",
    "label_encoders = {}\n",
    "y_encoded = {}\n",
    "for col in output_columns:\n",
    "    le = LabelEncoder()\n",
    "    y_encoded[col] = le.fit_transform(data[col])\n",
    "    label_encoders[col] = le\n",
    "\n",
    "# Stack encoded target columns\n",
    "y = np.stack([y_encoded[col] for col in output_columns], axis=1)\n",
    "\n",
    "# Train-test split\n",
    "X_train, X_test, y_train, y_test = train_test_split(\n",
    "    X, y, test_size=0.2, random_state=42\n",
    ")\n",
    "\n",
    "# Model architecture\n",
    "def create_model(max_vocab_size, max_sequence_length, output_dims):\n",
    "    input_layer = Input(shape=(max_sequence_length,))\n",
    "    embedding_layer = Embedding(\n",
    "        input_dim=max_vocab_size,\n",
    "        output_dim=64,\n",
    "        input_length=max_sequence_length,\n",
    "        embeddings_regularizer=l2(1e-4)\n",
    "    )(input_layer)\n",
    "    norm_layer = BatchNormalization()(embedding_layer)\n",
    "    lstm_layer = Bidirectional(LSTM(\n",
    "        128,\n",
    "        return_sequences=True,\n",
    "        kernel_regularizer=l2(1e-4),\n",
    "        recurrent_regularizer=l2(1e-4),\n",
    "        bias_regularizer=l2(1e-4)\n",
    "    ))(norm_layer)\n",
    "    lstm_layer = Dropout(0.4)(lstm_layer)\n",
    "    lstm_layer = BatchNormalization()(lstm_layer)\n",
    "    lstm_layer = Bidirectional(LSTM(\n",
    "        128,\n",
    "        return_sequences=False,\n",
    "        kernel_regularizer=l2(1e-4),\n",
    "        recurrent_regularizer=l2(1e-4),\n",
    "        bias_regularizer=l2(1e-4)\n",
    "    ))(lstm_layer)\n",
    "    lstm_layer = Dropout(0.4)(lstm_layer)\n",
    "    dense_layer = BatchNormalization()(lstm_layer)\n",
    "    output_layers = []\n",
    "    for i, dim in enumerate(output_dims):\n",
    "        output = Dense(\n",
    "            dim,\n",
    "            activation='softmax',\n",
    "            name=output_columns[i],\n",
    "            kernel_regularizer=l2(1e-4)\n",
    "        )(dense_layer)\n",
    "        output_layers.append(output)\n",
    "    return Model(inputs=input_layer, outputs=output_layers)\n",
    "\n",
    "# Number of classes for each output\n",
    "output_dims = [len(label_encoders[col].classes_) for col in output_columns]\n",
    "\n",
    "# Create and compile model\n",
    "model = create_model(max_vocab_size, max_sequence_length, output_dims)\n",
    "model.compile(\n",
    "    optimizer=Adam(learning_rate=5e-4),\n",
    "    loss=['sparse_categorical_crossentropy'] * len(output_columns),\n",
    "    metrics=['accuracy'] * len(output_columns)\n",
    ")\n",
    "\n",
    "#Display Model\n",
    "model.summary()\n",
    "\n",
    "# Callbacks for training\n",
    "\n",
    "reduce_lr = ReduceLROnPlateau(monitor='val_loss', factor=0.5, patience=3, min_lr=1e-6)\n",
    "\n",
    "# Train the model\n",
    "history = model.fit(\n",
    "    X_train,\n",
    "    [y_train[:, i] for i in range(y_train.shape[1])],\n",
    "    validation_data=(X_test, [y_test[:, i] for i in range(y_test.shape[1])]),\n",
    "    epochs=50,\n",
    "    batch_size=64,\n",
    "    callbacks=[ reduce_lr],\n",
    "    verbose=1\n",
    ")"
   ]
  },
  {
   "cell_type": "markdown",
   "metadata": {
    "id": "5O4ShVF04s7J"
   },
   "source": [
    "**Evaluate the Model**"
   ]
  },
  {
   "cell_type": "code",
   "execution_count": 6,
   "metadata": {
    "colab": {
     "base_uri": "https://localhost:8080/"
    },
    "id": "6P1S4LYcD7Qj",
    "outputId": "eb2207a8-7b6f-4439-9588-2cfaf61dbe14"
   },
   "outputs": [
    {
     "name": "stdout",
     "output_type": "stream",
     "text": [
      "\u001b[1m67/67\u001b[0m \u001b[32m━━━━━━━━━━━━━━━━━━━━\u001b[0m\u001b[37m\u001b[0m \u001b[1m1s\u001b[0m 14ms/step - Amar_accuracy: 0.9414 - Amar_loss: 0.3316 - Madhi_accuracy: 0.9798 - Madhi_loss: 0.1257 - Mudhori_accuracy: 0.9599 - Mudhori_loss: 0.2717 - loss: 0.9948\n",
      "Evaluation Results:\n",
      "Madhi Accuracy: 96.43%\n",
      "Mudhori Accuracy: 98.45%\n",
      "Amar Accuracy: 94.78%\n"
     ]
    }
   ],
   "source": [
    "evaluation = model.evaluate(\n",
    "    X_test, [y_test[:, i] for i in range(y_test.shape[1])], verbose=1\n",
    ")\n",
    "\n",
    "print(\"Evaluation Results:\")\n",
    "for col, index in zip(output_columns, [6, 5, 4]):  # Indeks untuk Madhi, Mudhari, Amar\n",
    "    print(f\"{col} Accuracy: {evaluation[index] * 100:.2f}%\")\n",
    "\n"
   ]
  },
  {
   "cell_type": "code",
   "execution_count": 7,
   "metadata": {
    "colab": {
     "base_uri": "https://localhost:8080/",
     "height": 1000
    },
    "id": "s7NJzYHxD9ov",
    "outputId": "2532c375-f6b7-4112-ba9b-83fa40cc944d"
   },
   "outputs": [
    {
     "data": {
      "image/png": "[encoded data removed]",
      "text/plain": [
       "<Figure size 800x400 with 1 Axes>"
      ]
     },
     "metadata": {},
     "output_type": "display_data"
    },
    {
     "data": {
      "image/png": "[encoded data removed]",
      "text/plain": [
       "<Figure size 800x400 with 1 Axes>"
      ]
     },
     "metadata": {},
     "output_type": "display_data"
    },
    {
     "data": {
      "image/png": "[encoded data removed]",
      "text/plain": [
       "<Figure size 800x400 with 1 Axes>"
      ]
     },
     "metadata": {},
     "output_type": "display_data"
    }
   ],
   "source": [
    "import matplotlib.pyplot as plt\n",
    "\n",
    "# Plot training and validation accuracy for each output\n",
    "def plot_training_accuracy(history, output_columns):\n",
    "    for col in output_columns:\n",
    "        plt.figure(figsize=(8, 4))\n",
    "        # Plot training and validation accuracy\n",
    "        plt.plot(history.history[f'{col}_accuracy'], label=f'{col} Training Accuracy')\n",
    "        plt.plot(history.history[f'val_{col}_accuracy'], label=f'{col} Validation Accuracy', linestyle='--')\n",
    "        plt.title(f'{col} Accuracy')\n",
    "        plt.xlabel('Epochs')\n",
    "        plt.ylabel('Accuracy (%)')\n",
    "        plt.ylim(0, 1)\n",
    "        plt.legend()\n",
    "        plt.grid(True)\n",
    "        plt.show()\n",
    "\n",
    "# Call the function to plot accuracy\n",
    "plot_training_accuracy(history, output_columns)\n"
   ]
  },
  {
   "cell_type": "markdown",
   "metadata": {
    "id": "5FTAV8pmViai"
   },
   "source": [
    "**Save, Load, and Test Model**"
   ]
  },
  {
   "cell_type": "code",
   "execution_count": null,
   "metadata": {},
   "outputs": [],
   "source": [
    "\n",
    "\n",
    "while True:  # Loop untuk mengizinkan pengujian berulang kali\n",
    "   \n",
    "    test_word = input(\"Masukkan kata untuk pengujian (atau ketik 'exit' untuk keluar): \").strip()\n",
    "    if test_word.lower() == 'exit':  # Keluar dari loop jika pengguna mengetik 'exit'\n",
    "        print(\"Keluar dari pengujian.\")\n",
    "        break\n",
    "\n",
    "    # Preprocessing: Tokenize dan pad input\n",
    "    test_sequence = tokenizer.texts_to_sequences([test_word])\n",
    "    test_sequence = pad_sequences(test_sequence, maxlen=max_sequence_length, padding='post')\n",
    "\n",
    "    # Prediksi menggunakan model\n",
    "    predictions = model.predict(test_sequence)\n",
    "\n",
    "    # Decode hasil prediksi untuk setiap output\n",
    "    decoded_outputs = {}\n",
    "    for i, col in enumerate(output_columns):\n",
    "        predicted_class = np.argmax(predictions[i], axis=-1)  # Ambil kelas dengan probabilitas tertinggi\n",
    "        decoded_outputs[col] = label_encoders[col].inverse_transform([predicted_class[0]])[0]  # Dekode ke label asli\n",
    "\n",
    "    # Tampilkan hasil prediksi\n",
    "    print(f\"\\nHasil Prediksi untuk kata '{test_word}':\")\n",
    "    for col, result in decoded_outputs.items():\n",
    "        print(f\"{col}: {result}\")\n",
    "    print(\"-\" * 30)  # Pemisah untuk setiap pengujian\n"
   ]
  },
  {
   "cell_type": "code",
   "execution_count": 8,
   "metadata": {
    "colab": {
     "base_uri": "https://localhost:8080/"
    },
    "id": "WFbOo2fNU41y",
    "outputId": "87f8497f-04a0-4ca7-a470-4d0d0ac085d0"
   },
   "outputs": [
    {
     "name": "stderr",
     "output_type": "stream",
     "text": [
      "WARNING:absl:You are saving your model as an HDF5 file via `model.save()` or `keras.saving.save_model(model)`. This file format is considered legacy. We recommend using instead the native Keras format, e.g. `model.save('my_model.keras')` or `keras.saving.save_model(model, 'my_model.keras')`. \n"
     ]
    },
    {
     "name": "stdout",
     "output_type": "stream",
     "text": [
      "Model berhasil disimpan sebagai 'arabic_verb_model.h5'\n"
     ]
    }
   ],
   "source": [
    "# Save the trained model\n",
    "model.save('arabic_verb_model.h5')\n",
    "print(\"Model berhasil disimpan sebagai 'arabic_verb_model.h5'\")"
   ]
  },
  {
   "cell_type": "code",
   "execution_count": 14,
   "metadata": {
    "colab": {
     "base_uri": "https://localhost:8080/"
    },
    "id": "1CAZ8TYGEBVU",
    "outputId": "c25beaf0-5de7-485d-915a-f704c959b0b3"
   },
   "outputs": [
    {
     "name": "stdout",
     "output_type": "stream",
     "text": [
      "Memuat model...\n"
     ]
    },
    {
     "name": "stderr",
     "output_type": "stream",
     "text": [
      "WARNING:absl:Compiled the loaded model, but the compiled metrics have yet to be built. `model.compile_metrics` will be empty until you train or evaluate the model.\n"
     ]
    },
    {
     "name": "stdout",
     "output_type": "stream",
     "text": [
      "Model berhasil dimuat.\n",
      "WARNING:tensorflow:5 out of the last 13 calls to <function TensorFlowTrainer.make_predict_function.<locals>.one_step_on_data_distributed at 0x000001AB865796C0> triggered tf.function retracing. Tracing is expensive and the excessive number of tracings could be due to (1) creating @tf.function repeatedly in a loop, (2) passing tensors with different shapes, (3) passing Python objects instead of tensors. For (1), please define your @tf.function outside of the loop. For (2), @tf.function has reduce_retracing=True option that can avoid unnecessary retracing. For (3), please refer to https://www.tensorflow.org/guide/function#controlling_retracing and https://www.tensorflow.org/api_docs/python/tf/function for  more details.\n"
     ]
    },
    {
     "name": "stderr",
     "output_type": "stream",
     "text": [
      "WARNING:tensorflow:5 out of the last 13 calls to <function TensorFlowTrainer.make_predict_function.<locals>.one_step_on_data_distributed at 0x000001AB865796C0> triggered tf.function retracing. Tracing is expensive and the excessive number of tracings could be due to (1) creating @tf.function repeatedly in a loop, (2) passing tensors with different shapes, (3) passing Python objects instead of tensors. For (1), please define your @tf.function outside of the loop. For (2), @tf.function has reduce_retracing=True option that can avoid unnecessary retracing. For (3), please refer to https://www.tensorflow.org/guide/function#controlling_retracing and https://www.tensorflow.org/api_docs/python/tf/function for  more details.\n"
     ]
    },
    {
     "name": "stdout",
     "output_type": "stream",
     "text": [
      "\u001b[1m1/1\u001b[0m \u001b[32m━━━━━━━━━━━━━━━━━━━━\u001b[0m\u001b[37m\u001b[0m \u001b[1m1s\u001b[0m 1s/step\n",
      "\n",
      "Hasil Prediksi untuk kata 'فعل':\n",
      "Madhi: Other\n",
      "Mudhori: Other\n",
      "Amar: Other\n",
      "------------------------------\n"
     ]
    }
   ],
   "source": [
    "from tensorflow.keras.models import load_model\n",
    "import numpy as np\n",
    "from tensorflow.keras.preprocessing.sequence import pad_sequences\n",
    "\n",
    "# Load the saved model\n",
    "print(\"Memuat model...\")\n",
    "model = load_model('arabic_verb_model.h5')\n",
    "print(\"Model berhasil dimuat.\")\n",
    "\n",
    "\n",
    "\n",
    "   \n",
    "test_word = 'فعل'.strip()\n",
    "if test_word.lower() == 'exit':  # Keluar dari loop jika pengguna mengetik 'exit'\n",
    "    print(\"Keluar dari pengujian.\")\n",
    "\n",
    "    # Preprocessing: Tokenize dan pad input\n",
    "test_sequence = tokenizer.texts_to_sequences([test_word])\n",
    "test_sequence = pad_sequences(test_sequence, maxlen=max_sequence_length, padding='post')\n",
    "\n",
    "    # Prediksi menggunakan model\n",
    "predictions = model.predict(test_sequence)\n",
    "\n",
    "    # Decode hasil prediksi untuk setiap output\n",
    "decoded_outputs = {}\n",
    "for i, col in enumerate(output_columns):\n",
    "    predicted_class = np.argmax(predictions[i], axis=-1)  # Ambil kelas dengan probabilitas tertinggi\n",
    "    decoded_outputs[col] = label_encoders[col].inverse_transform([predicted_class[0]])[0]  # Dekode ke label asli\n",
    "\n",
    "    # Tampilkan hasil prediksi\n",
    "print(f\"\\nHasil Prediksi untuk kata '{test_word}':\")\n",
    "for col, result in decoded_outputs.items():\n",
    "    print(f\"{col}: {result}\")\n",
    "print(\"-\" * 30)  # Pemisah untuk setiap pengujian\n"
   ]
  },
  {
   "cell_type": "code",
   "execution_count": 15,
   "metadata": {},
   "outputs": [],
   "source": [
    "import pickle\n",
    "\n",
    "# Save the tokenizer\n",
    "with open('tokenizer.pickle', 'wb') as handle:\n",
    "    pickle.dump(tokenizer, handle, protocol=pickle.HIGHEST_PROTOCOL)\n",
    "\n",
    "# Save the label encoders\n",
    "with open('label_encoders.pickle', 'wb') as handle:\n",
    "    pickle.dump(label_encoders, handle, protocol=pickle.HIGHEST_PROTOCOL)"
   ]
  },
  {
   "cell_type": "code",
   "execution_count": 18,
   "metadata": {},
   "outputs": [
    {
     "name": "stdout",
     "output_type": "stream",
     "text": [
      "Memuat model...\n"
     ]
    },
    {
     "name": "stderr",
     "output_type": "stream",
     "text": [
      "WARNING:absl:Compiled the loaded model, but the compiled metrics have yet to be built. `model.compile_metrics` will be empty until you train or evaluate the model.\n"
     ]
    },
    {
     "name": "stdout",
     "output_type": "stream",
     "text": [
      "Model berhasil dimuat.\n",
      "\u001b[1m1/1\u001b[0m \u001b[32m━━━━━━━━━━━━━━━━━━━━\u001b[0m\u001b[37m\u001b[0m \u001b[1m1s\u001b[0m 1s/step\n",
      "\n",
      "Hasil Prediksi untuk kata 'فعل':\n",
      "Madhi: Other\n",
      "Mudhori: Other\n",
      "Amar: Other\n",
      "------------------------------\n",
      "\u001b[1m1/1\u001b[0m \u001b[32m━━━━━━━━━━━━━━━━━━━━\u001b[0m\u001b[37m\u001b[0m \u001b[1m0s\u001b[0m 46ms/step\n",
      "\n",
      "Hasil Prediksi untuk kata 'فعل':\n",
      "Madhi: Other\n",
      "Mudhori: Other\n",
      "Amar: Other\n",
      "------------------------------\n",
      "\u001b[1m1/1\u001b[0m \u001b[32m━━━━━━━━━━━━━━━━━━━━\u001b[0m\u001b[37m\u001b[0m \u001b[1m0s\u001b[0m 48ms/step\n",
      "\n",
      "Hasil Prediksi untuk kata 'فعل':\n",
      "Madhi: Other\n",
      "Mudhori: Other\n",
      "Amar: Other\n",
      "------------------------------\n",
      "\u001b[1m1/1\u001b[0m \u001b[32m━━━━━━━━━━━━━━━━━━━━\u001b[0m\u001b[37m\u001b[0m \u001b[1m0s\u001b[0m 39ms/step\n",
      "\n",
      "Hasil Prediksi untuk kata 'مكن':\n",
      "Madhi: Other\n",
      "Mudhori: Other\n",
      "Amar: Other\n",
      "------------------------------\n",
      "\u001b[1m1/1\u001b[0m \u001b[32m━━━━━━━━━━━━━━━━━━━━\u001b[0m\u001b[37m\u001b[0m \u001b[1m0s\u001b[0m 41ms/step\n",
      "\n",
      "Hasil Prediksi untuk kata 'مكن':\n",
      "Madhi: Other\n",
      "Mudhori: Other\n",
      "Amar: Other\n",
      "------------------------------\n",
      "\u001b[1m1/1\u001b[0m \u001b[32m━━━━━━━━━━━━━━━━━━━━\u001b[0m\u001b[37m\u001b[0m \u001b[1m0s\u001b[0m 44ms/step\n",
      "\n",
      "Hasil Prediksi untuk kata '':\n",
      "Madhi: عَرَّ\n",
      "Mudhori: يَزِرُّ\n",
      "Amar: Other\n",
      "------------------------------\n",
      "\u001b[1m1/1\u001b[0m \u001b[32m━━━━━━━━━━━━━━━━━━━━\u001b[0m\u001b[37m\u001b[0m \u001b[1m0s\u001b[0m 39ms/step\n",
      "\n",
      "Hasil Prediksi untuk kata '':\n",
      "Madhi: عَرَّ\n",
      "Mudhori: يَزِرُّ\n",
      "Amar: Other\n",
      "------------------------------\n",
      "\u001b[1m1/1\u001b[0m \u001b[32m━━━━━━━━━━━━━━━━━━━━\u001b[0m\u001b[37m\u001b[0m \u001b[1m0s\u001b[0m 37ms/step\n",
      "\n",
      "Hasil Prediksi untuk kata '':\n",
      "Madhi: عَرَّ\n",
      "Mudhori: يَزِرُّ\n",
      "Amar: Other\n",
      "------------------------------\n",
      "\u001b[1m1/1\u001b[0m \u001b[32m━━━━━━━━━━━━━━━━━━━━\u001b[0m\u001b[37m\u001b[0m \u001b[1m0s\u001b[0m 39ms/step\n",
      "\n",
      "Hasil Prediksi untuk kata '':\n",
      "Madhi: عَرَّ\n",
      "Mudhori: يَزِرُّ\n",
      "Amar: Other\n",
      "------------------------------\n",
      "\u001b[1m1/1\u001b[0m \u001b[32m━━━━━━━━━━━━━━━━━━━━\u001b[0m\u001b[37m\u001b[0m \u001b[1m0s\u001b[0m 39ms/step\n",
      "\n",
      "Hasil Prediksi untuk kata '':\n",
      "Madhi: عَرَّ\n",
      "Mudhori: يَزِرُّ\n",
      "Amar: Other\n",
      "------------------------------\n",
      "\u001b[1m1/1\u001b[0m \u001b[32m━━━━━━━━━━━━━━━━━━━━\u001b[0m\u001b[37m\u001b[0m \u001b[1m0s\u001b[0m 42ms/step\n",
      "\n",
      "Hasil Prediksi untuk kata '':\n",
      "Madhi: عَرَّ\n",
      "Mudhori: يَزِرُّ\n",
      "Amar: Other\n",
      "------------------------------\n",
      "\u001b[1m1/1\u001b[0m \u001b[32m━━━━━━━━━━━━━━━━━━━━\u001b[0m\u001b[37m\u001b[0m \u001b[1m0s\u001b[0m 47ms/step\n",
      "\n",
      "Hasil Prediksi untuk kata '':\n",
      "Madhi: عَرَّ\n",
      "Mudhori: يَزِرُّ\n",
      "Amar: Other\n",
      "------------------------------\n",
      "Keluar dari pengujian.\n"
     ]
    }
   ],
   "source": [
    "#Load the saved model\n",
    "print(\"Memuat model...\")\n",
    "model = load_model('arabic_verb_model.h5')\n",
    "print(\"Model berhasil dimuat.\")\n",
    "\n",
    "# Load the tokenizer and label encoders\n",
    "with open('tokenizer.pickle', 'rb') as handle:\n",
    "    tokenizer = pickle.load(handle)\n",
    "\n",
    "with open('label_encoders.pickle', 'rb') as handle:\n",
    "    label_encoders = pickle.load(handle)\n",
    "\n",
    "# Define the maximum sequence length and output columns\n",
    "max_sequence_length = 6\n",
    "output_columns = ['Madhi', 'Mudhori', 'Amar']\n",
    "\n",
    "while True:  # Loop untuk mengizinkan pengujian berulang kali\n",
    "    test_word = input(\"Masukkan kata untuk pengujian (atau ketik 'exit' untuk keluar): \").strip()\n",
    "    if test_word.lower() == 'exit':  # Keluar dari loop jika pengguna mengetik 'exit'\n",
    "        print(\"Keluar dari pengujian.\")\n",
    "        break\n",
    "\n",
    "    # Preprocessing: Tokenize dan pad input\n",
    "    test_sequence = tokenizer.texts_to_sequences([test_word])\n",
    "    test_sequence = pad_sequences(test_sequence, maxlen=max_sequence_length, padding='post')\n",
    "\n",
    "    # Prediksi menggunakan model\n",
    "    predictions = model.predict(test_sequence)\n",
    "\n",
    "    # Decode hasil prediksi untuk setiap output\n",
    "    decoded_outputs = {}\n",
    "    for i, col in enumerate(output_columns):\n",
    "        predicted_class = np.argmax(predictions[i], axis=-1)  # Ambil kelas dengan probabilitas tertinggi\n",
    "        decoded_outputs[col] = label_encoders[col].inverse_transform([predicted_class[0]])[0]  # Dekode ke label asli\n",
    "\n",
    "    # Tampilkan hasil prediksi\n",
    "    print(f\"\\nHasil Prediksi untuk kata '{test_word}':\")\n",
    "    for col, result in decoded_outputs.items():\n",
    "        print(f\"{col}: {result}\")\n",
    "    print(\"-\" * 30)  # Pemisah untuk setiap pengujian"
   ]
  },
  {
   "cell_type": "code",
   "execution_count": null,
   "metadata": {},
   "outputs": [],
   "source": []
  }
 ],
 "metadata": {
  "colab": {
   "provenance": []
  },
  "kernelspec": {
   "display_name": "Python 3",
   "name": "python3"
  },
  "language_info": {
   "codemirror_mode": {
    "name": "ipython",
    "version": 3
   },
   "file_extension": ".py",
   "mimetype": "text/x-python",
   "name": "python",
   "nbconvert_exporter": "python",
   "pygments_lexer": "ipython3",
   "version": "3.11.1"
  }
 },
 "nbformat": 4,
 "nbformat_minor": 0
}
